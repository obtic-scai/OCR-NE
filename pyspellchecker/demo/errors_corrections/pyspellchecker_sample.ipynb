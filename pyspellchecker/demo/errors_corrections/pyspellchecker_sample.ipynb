{
 "cells": [
  {
   "cell_type": "code",
   "execution_count": 1,
   "metadata": {},
   "outputs": [],
   "source": [
    "import regex as re\n",
    "import csv\n",
    "from spellchecker import SpellChecker\n",
    "\n",
    "entry = \"sample.xml\"\n",
    "output = \"sample_out.xml\"\n",
    "\n",
    "\n",
    "# enlever les balises XML\n",
    "text = re.sub('<[^<]+>', \"\", open(entry).read()) \n",
    "with open(output, \"w\") as f:\n",
    "    f.write(text)\n",
    "    \n",
    "\n",
    "# enlever les espaces dans le fichier XML    \n",
    "text = re.sub('\\s+',' ', open(output).read())\n",
    "\n",
    "    \n",
    "\n",
    "# enlever les signes de ponctuation sauf les apostrophes, les points d’interrogations, les parenthèses et les tirets\n",
    "text = re.sub(r\"\"\"[!^\\.\\,\\!\\*]+\"\"\",'',text)\n",
    "with open(output, \"w\") as f:\n",
    "    f.write(text)  \n",
    "    \n",
    "    \n",
    "# récupérer la liste des tokens   \n",
    "my_file = open(output, \"r\")\n",
    "content = my_file.read()\n",
    "# print(content) # imprimer le contenu\n",
    "\n",
    "content_list = content.split(\" \")\n",
    "my_file.close()\n",
    "# print(content_list) # imprimer la liste des tokens\n",
    "\n",
    "\n",
    "#  extraire les tokens mal orthographiés et leurs corrections\n",
    "fout = open(\"corrections.csv\", \"wt\")\n",
    "spell = SpellChecker(language='fr')\n",
    "misspelled = spell.unknown(content_list)\n",
    "writer = csv.writer(fout)\n",
    "writer.writerow([\"Erreur\"'\\t' \"Correction\"'\\t' \"Fréquence\"'\\t'])\n",
    "# print(misspelled) # imprimer les tokens mal orthographiés\n",
    "for word in misspelled:\n",
    "\tfout.write(word+'\\t' + spell.correction(word)+'\\t' + ' \\n')\n",
    "\t\n",
    "\n",
    "fout.close()"
   ]
  },
  {
   "cell_type": "code",
   "execution_count": 2,
   "metadata": {},
   "outputs": [
    {
     "name": "stdout",
     "output_type": "stream",
     "text": [
      "Erreurs :  2599\n",
      "Tokens :  27252\n"
     ]
    }
   ],
   "source": [
    "print('Erreurs : ', len(misspelled))\n",
    "print('Tokens : ', len(content_list))"
   ]
  },
  {
   "cell_type": "code",
   "execution_count": null,
   "metadata": {},
   "outputs": [],
   "source": []
  }
 ],
 "metadata": {
  "kernelspec": {
   "display_name": "Python 3",
   "language": "python",
   "name": "python3"
  },
  "language_info": {
   "codemirror_mode": {
    "name": "ipython",
    "version": 3
   },
   "file_extension": ".py",
   "mimetype": "text/x-python",
   "name": "python",
   "nbconvert_exporter": "python",
   "pygments_lexer": "ipython3",
   "version": "3.8.8"
  },
  "toc": {
   "base_numbering": 1,
   "nav_menu": {},
   "number_sections": true,
   "sideBar": true,
   "skip_h1_title": false,
   "title_cell": "Table of Contents",
   "title_sidebar": "Contents",
   "toc_cell": false,
   "toc_position": {},
   "toc_section_display": true,
   "toc_window_display": false
  }
 },
 "nbformat": 4,
 "nbformat_minor": 4
}
