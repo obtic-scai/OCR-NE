{
 "cells": [
  {
   "cell_type": "code",
   "execution_count": 1,
   "metadata": {},
   "outputs": [],
   "source": [
    "import re\n",
    "from spellchecker import SpellChecker\n",
    "\n",
    "entry = \"test.xml\"\n",
    "output = \"test_out.xml\"\n",
    "\n",
    "# enlever les espaces multiples\n",
    "# text = re.sub('\\s+',' ', open(entry).read())\n",
    "\n",
    "\n",
    "# enlever les balises xml\n",
    "text = re.sub('<[^<]+>', \"\", open(entry).read())\n",
    "\n",
    "\n",
    "# activer le correcteur d'orthographe français\n",
    "content_list = text.split()\n",
    "spell = SpellChecker(language='fr')\n",
    "misspelled = spell.unknown(content_list)\n",
    "\n",
    "\n",
    "# ajouter le mot '&amp;' dans le dictionnaire des mots corrects pour ne pas le corriger en 'camp'\n",
    "spell.word_frequency.load_words(['&amp;'])\n",
    "# spell.known(['&amp;'])  # le mot {'&amp;'} est désormais dans le dictionnaire des mots corrects\n",
    "\n",
    "\n",
    "# corriger les mots incorrects\n",
    "for m in misspelled:\n",
    "    corrected = spell.correction(m)\n",
    "    # print(corrected)\n",
    "\n",
    "with open(output, \"w\") as f:\n",
    "    for m in misspelled:\n",
    "        corrected = spell.correction(m)\n",
    "        text = text.replace(m, corrected)\n",
    "        # f.write(c.replace('clafliques', 'classiques'))\n",
    "    f.write(text)"
   ]
  },
  {
   "cell_type": "code",
   "execution_count": null,
   "metadata": {},
   "outputs": [],
   "source": []
  }
 ],
 "metadata": {
  "kernelspec": {
   "display_name": "Python 3",
   "language": "python",
   "name": "python3"
  },
  "language_info": {
   "codemirror_mode": {
    "name": "ipython",
    "version": 3
   },
   "file_extension": ".py",
   "mimetype": "text/x-python",
   "name": "python",
   "nbconvert_exporter": "python",
   "pygments_lexer": "ipython3",
   "version": "3.8.8"
  },
  "toc": {
   "base_numbering": 1,
   "nav_menu": {},
   "number_sections": true,
   "sideBar": true,
   "skip_h1_title": false,
   "title_cell": "Table of Contents",
   "title_sidebar": "Contents",
   "toc_cell": false,
   "toc_position": {},
   "toc_section_display": true,
   "toc_window_display": false
  }
 },
 "nbformat": 4,
 "nbformat_minor": 4
}
